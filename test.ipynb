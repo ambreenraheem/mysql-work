{
 "cells": [
  {
   "cell_type": "markdown",
   "metadata": {},
   "source": [
    "# **NAME: AMBREEN ABDULRAHEEM**\n",
    "# **SUBJECT: EXPLORATORY DATA ANALYSIS AND DATA VISUALIZATION**\n",
    "# **DATA NAME: CLASSICMODELS**\n",
    "# **CONTACT: ambreen.a.raheem@outlook.com**"
   ]
  },
  {
   "cell_type": "markdown",
   "metadata": {},
   "source": [
    "### **ABOUT DATA OF CLASSICMODELS**\n",
    "#### The classicmodels database is a retailer of scale models of classic cars. It contains typical business data, including information about customers, products, sales orders, sales order line items, and more.\n",
    "\n",
    "#### We’ll use this sample database with MySQL to demonstrate a wide range of MySQL features, from simple queries to complex stored procedures."
   ]
  },
  {
   "cell_type": "markdown",
   "metadata": {},
   "source": [
    "#### **WHAT IS MySQL?**\n",
    "Structured Quary Language (SQL) is a standard computer language for relational database management and data manipulation."
   ]
  },
  {
   "cell_type": "markdown",
   "metadata": {},
   "source": [
    "#### **DATA VISUALIZATION**\n",
    "Need to import some important libraries."
   ]
  },
  {
   "cell_type": "code",
   "execution_count": 97,
   "metadata": {},
   "outputs": [],
   "source": [
    "import matplotlib.pyplot as plt\n",
    "import pandas as pd\n",
    "import seaborn as sns"
   ]
  },
  {
   "cell_type": "markdown",
   "metadata": {},
   "source": [
    "### **First I manipulate the DATASET with the help of 'MySQL' one by one and will do EDA in 'VScode'**\n",
    "# NO # 1: \"customers\"\n",
    "we have taken this dataset from MySQL and need to know about Customers..."
   ]
  },
  {
   "cell_type": "code",
   "execution_count": 98,
   "metadata": {},
   "outputs": [
    {
     "data": {
      "text/html": [
       "<div>\n",
       "<style scoped>\n",
       "    .dataframe tbody tr th:only-of-type {\n",
       "        vertical-align: middle;\n",
       "    }\n",
       "\n",
       "    .dataframe tbody tr th {\n",
       "        vertical-align: top;\n",
       "    }\n",
       "\n",
       "    .dataframe thead th {\n",
       "        text-align: right;\n",
       "    }\n",
       "</style>\n",
       "<table border=\"1\" class=\"dataframe\">\n",
       "  <thead>\n",
       "    <tr style=\"text-align: right;\">\n",
       "      <th></th>\n",
       "      <th>customerNumber</th>\n",
       "      <th>customerName</th>\n",
       "      <th>contactLastName</th>\n",
       "      <th>contactFirstName</th>\n",
       "      <th>phone</th>\n",
       "      <th>addressLine1</th>\n",
       "      <th>addressLine2</th>\n",
       "      <th>city</th>\n",
       "      <th>state</th>\n",
       "      <th>postalCode</th>\n",
       "      <th>country</th>\n",
       "      <th>salesRepEmployeeNumber</th>\n",
       "      <th>creditLimit</th>\n",
       "    </tr>\n",
       "  </thead>\n",
       "  <tbody>\n",
       "    <tr>\n",
       "      <th>0</th>\n",
       "      <td>103</td>\n",
       "      <td>Atelier graphique</td>\n",
       "      <td>Schmitt</td>\n",
       "      <td>Carine</td>\n",
       "      <td>40.32.2555</td>\n",
       "      <td>54, rue Royale</td>\n",
       "      <td>NaN</td>\n",
       "      <td>Nantes</td>\n",
       "      <td>NaN</td>\n",
       "      <td>44000</td>\n",
       "      <td>France</td>\n",
       "      <td>1370.0</td>\n",
       "      <td>21000.0</td>\n",
       "    </tr>\n",
       "    <tr>\n",
       "      <th>1</th>\n",
       "      <td>112</td>\n",
       "      <td>Signal Gift Stores</td>\n",
       "      <td>King</td>\n",
       "      <td>Jean</td>\n",
       "      <td>7025551838</td>\n",
       "      <td>8489 Strong St.</td>\n",
       "      <td>NaN</td>\n",
       "      <td>Las Vegas</td>\n",
       "      <td>NV</td>\n",
       "      <td>83030</td>\n",
       "      <td>USA</td>\n",
       "      <td>1166.0</td>\n",
       "      <td>71800.0</td>\n",
       "    </tr>\n",
       "    <tr>\n",
       "      <th>2</th>\n",
       "      <td>114</td>\n",
       "      <td>Australian Collectors, Co.</td>\n",
       "      <td>Ferguson</td>\n",
       "      <td>Peter</td>\n",
       "      <td>03 9520 4555</td>\n",
       "      <td>636 St Kilda Road</td>\n",
       "      <td>Level 3</td>\n",
       "      <td>Melbourne</td>\n",
       "      <td>Victoria</td>\n",
       "      <td>3004</td>\n",
       "      <td>Australia</td>\n",
       "      <td>1611.0</td>\n",
       "      <td>117300.0</td>\n",
       "    </tr>\n",
       "    <tr>\n",
       "      <th>3</th>\n",
       "      <td>119</td>\n",
       "      <td>La Rochelle Gifts</td>\n",
       "      <td>Labrune</td>\n",
       "      <td>Janine</td>\n",
       "      <td>40.67.8555</td>\n",
       "      <td>67, rue des Cinquante Otages</td>\n",
       "      <td>NaN</td>\n",
       "      <td>Nantes</td>\n",
       "      <td>NaN</td>\n",
       "      <td>44000</td>\n",
       "      <td>France</td>\n",
       "      <td>1370.0</td>\n",
       "      <td>118200.0</td>\n",
       "    </tr>\n",
       "    <tr>\n",
       "      <th>4</th>\n",
       "      <td>121</td>\n",
       "      <td>Baane Mini Imports</td>\n",
       "      <td>Bergulfsen</td>\n",
       "      <td>Jonas</td>\n",
       "      <td>07-98 9555</td>\n",
       "      <td>Erling Skakkes gate 78</td>\n",
       "      <td>NaN</td>\n",
       "      <td>Stavern</td>\n",
       "      <td>NaN</td>\n",
       "      <td>4110</td>\n",
       "      <td>Norway</td>\n",
       "      <td>1504.0</td>\n",
       "      <td>81700.0</td>\n",
       "    </tr>\n",
       "    <tr>\n",
       "      <th>...</th>\n",
       "      <td>...</td>\n",
       "      <td>...</td>\n",
       "      <td>...</td>\n",
       "      <td>...</td>\n",
       "      <td>...</td>\n",
       "      <td>...</td>\n",
       "      <td>...</td>\n",
       "      <td>...</td>\n",
       "      <td>...</td>\n",
       "      <td>...</td>\n",
       "      <td>...</td>\n",
       "      <td>...</td>\n",
       "      <td>...</td>\n",
       "    </tr>\n",
       "    <tr>\n",
       "      <th>117</th>\n",
       "      <td>486</td>\n",
       "      <td>Motor Mint Distributors Inc.</td>\n",
       "      <td>Salazar</td>\n",
       "      <td>Rosa</td>\n",
       "      <td>2155559857</td>\n",
       "      <td>11328 Douglas Av.</td>\n",
       "      <td>NaN</td>\n",
       "      <td>Philadelphia</td>\n",
       "      <td>PA</td>\n",
       "      <td>71270</td>\n",
       "      <td>USA</td>\n",
       "      <td>1323.0</td>\n",
       "      <td>72600.0</td>\n",
       "    </tr>\n",
       "    <tr>\n",
       "      <th>118</th>\n",
       "      <td>487</td>\n",
       "      <td>Signal Collectibles Ltd.</td>\n",
       "      <td>Taylor</td>\n",
       "      <td>Sue</td>\n",
       "      <td>4155554312</td>\n",
       "      <td>2793 Furth Circle</td>\n",
       "      <td>NaN</td>\n",
       "      <td>Brisbane</td>\n",
       "      <td>CA</td>\n",
       "      <td>94217</td>\n",
       "      <td>USA</td>\n",
       "      <td>1165.0</td>\n",
       "      <td>60300.0</td>\n",
       "    </tr>\n",
       "    <tr>\n",
       "      <th>119</th>\n",
       "      <td>489</td>\n",
       "      <td>Double Decker Gift Stores, Ltd</td>\n",
       "      <td>Smith</td>\n",
       "      <td>Thomas</td>\n",
       "      <td>(171) 555-7555</td>\n",
       "      <td>120 Hanover Sq.</td>\n",
       "      <td>NaN</td>\n",
       "      <td>London</td>\n",
       "      <td>NaN</td>\n",
       "      <td>WA1 1DP</td>\n",
       "      <td>UK</td>\n",
       "      <td>1501.0</td>\n",
       "      <td>43300.0</td>\n",
       "    </tr>\n",
       "    <tr>\n",
       "      <th>120</th>\n",
       "      <td>495</td>\n",
       "      <td>Diecast Collectables</td>\n",
       "      <td>Franco</td>\n",
       "      <td>Valarie</td>\n",
       "      <td>6175552555</td>\n",
       "      <td>6251 Ingle Ln.</td>\n",
       "      <td>NaN</td>\n",
       "      <td>Boston</td>\n",
       "      <td>MA</td>\n",
       "      <td>51003</td>\n",
       "      <td>USA</td>\n",
       "      <td>1188.0</td>\n",
       "      <td>85100.0</td>\n",
       "    </tr>\n",
       "    <tr>\n",
       "      <th>121</th>\n",
       "      <td>496</td>\n",
       "      <td>Kelly's Gift Shop</td>\n",
       "      <td>Snowden</td>\n",
       "      <td>Tony</td>\n",
       "      <td>+64 9 5555500</td>\n",
       "      <td>Arenales 1938 3'A'</td>\n",
       "      <td>NaN</td>\n",
       "      <td>Auckland</td>\n",
       "      <td>NaN</td>\n",
       "      <td>NaN</td>\n",
       "      <td>New Zealand</td>\n",
       "      <td>1612.0</td>\n",
       "      <td>110000.0</td>\n",
       "    </tr>\n",
       "  </tbody>\n",
       "</table>\n",
       "<p>122 rows × 13 columns</p>\n",
       "</div>"
      ],
      "text/plain": [
       "     customerNumber                    customerName contactLastName  \\\n",
       "0               103               Atelier graphique         Schmitt   \n",
       "1               112              Signal Gift Stores            King   \n",
       "2               114      Australian Collectors, Co.        Ferguson   \n",
       "3               119               La Rochelle Gifts         Labrune   \n",
       "4               121              Baane Mini Imports      Bergulfsen   \n",
       "..              ...                             ...             ...   \n",
       "117             486    Motor Mint Distributors Inc.         Salazar   \n",
       "118             487        Signal Collectibles Ltd.          Taylor   \n",
       "119             489  Double Decker Gift Stores, Ltd           Smith   \n",
       "120             495            Diecast Collectables          Franco   \n",
       "121             496               Kelly's Gift Shop         Snowden   \n",
       "\n",
       "    contactFirstName           phone                  addressLine1  \\\n",
       "0            Carine       40.32.2555                54, rue Royale   \n",
       "1               Jean      7025551838               8489 Strong St.   \n",
       "2              Peter    03 9520 4555             636 St Kilda Road   \n",
       "3            Janine       40.67.8555  67, rue des Cinquante Otages   \n",
       "4             Jonas       07-98 9555        Erling Skakkes gate 78   \n",
       "..               ...             ...                           ...   \n",
       "117             Rosa      2155559857             11328 Douglas Av.   \n",
       "118              Sue      4155554312             2793 Furth Circle   \n",
       "119          Thomas   (171) 555-7555               120 Hanover Sq.   \n",
       "120          Valarie      6175552555                6251 Ingle Ln.   \n",
       "121             Tony   +64 9 5555500            Arenales 1938 3'A'   \n",
       "\n",
       "    addressLine2          city     state postalCode      country  \\\n",
       "0            NaN        Nantes       NaN      44000       France   \n",
       "1            NaN     Las Vegas        NV      83030          USA   \n",
       "2        Level 3     Melbourne  Victoria       3004    Australia   \n",
       "3            NaN        Nantes       NaN      44000       France   \n",
       "4            NaN       Stavern       NaN       4110       Norway   \n",
       "..           ...           ...       ...        ...          ...   \n",
       "117          NaN  Philadelphia        PA      71270          USA   \n",
       "118          NaN      Brisbane        CA      94217          USA   \n",
       "119          NaN        London       NaN    WA1 1DP           UK   \n",
       "120          NaN        Boston        MA      51003          USA   \n",
       "121          NaN    Auckland         NaN        NaN  New Zealand   \n",
       "\n",
       "     salesRepEmployeeNumber  creditLimit  \n",
       "0                    1370.0      21000.0  \n",
       "1                    1166.0      71800.0  \n",
       "2                    1611.0     117300.0  \n",
       "3                    1370.0     118200.0  \n",
       "4                    1504.0      81700.0  \n",
       "..                      ...          ...  \n",
       "117                  1323.0      72600.0  \n",
       "118                  1165.0      60300.0  \n",
       "119                  1501.0      43300.0  \n",
       "120                  1188.0      85100.0  \n",
       "121                  1612.0     110000.0  \n",
       "\n",
       "[122 rows x 13 columns]"
      ]
     },
     "execution_count": 98,
     "metadata": {},
     "output_type": "execute_result"
    }
   ],
   "source": [
    "df=pd.read_csv(\"customer.csv\")\n",
    "df"
   ]
  },
  {
   "cell_type": "code",
   "execution_count": 99,
   "metadata": {},
   "outputs": [
    {
     "data": {
      "text/html": [
       "<div>\n",
       "<style scoped>\n",
       "    .dataframe tbody tr th:only-of-type {\n",
       "        vertical-align: middle;\n",
       "    }\n",
       "\n",
       "    .dataframe tbody tr th {\n",
       "        vertical-align: top;\n",
       "    }\n",
       "\n",
       "    .dataframe thead th {\n",
       "        text-align: right;\n",
       "    }\n",
       "</style>\n",
       "<table border=\"1\" class=\"dataframe\">\n",
       "  <thead>\n",
       "    <tr style=\"text-align: right;\">\n",
       "      <th></th>\n",
       "      <th>customerNumber</th>\n",
       "      <th>salesRepEmployeeNumber</th>\n",
       "      <th>creditLimit</th>\n",
       "    </tr>\n",
       "  </thead>\n",
       "  <tbody>\n",
       "    <tr>\n",
       "      <th>count</th>\n",
       "      <td>122.000000</td>\n",
       "      <td>100.00000</td>\n",
       "      <td>122.000000</td>\n",
       "    </tr>\n",
       "    <tr>\n",
       "      <th>mean</th>\n",
       "      <td>296.401639</td>\n",
       "      <td>1395.94000</td>\n",
       "      <td>67659.016393</td>\n",
       "    </tr>\n",
       "    <tr>\n",
       "      <th>std</th>\n",
       "      <td>117.077544</td>\n",
       "      <td>165.67193</td>\n",
       "      <td>45043.370751</td>\n",
       "    </tr>\n",
       "    <tr>\n",
       "      <th>min</th>\n",
       "      <td>103.000000</td>\n",
       "      <td>1165.00000</td>\n",
       "      <td>0.000000</td>\n",
       "    </tr>\n",
       "    <tr>\n",
       "      <th>25%</th>\n",
       "      <td>191.250000</td>\n",
       "      <td>1286.00000</td>\n",
       "      <td>42175.000000</td>\n",
       "    </tr>\n",
       "    <tr>\n",
       "      <th>50%</th>\n",
       "      <td>298.500000</td>\n",
       "      <td>1370.00000</td>\n",
       "      <td>76700.000000</td>\n",
       "    </tr>\n",
       "    <tr>\n",
       "      <th>75%</th>\n",
       "      <td>384.250000</td>\n",
       "      <td>1504.00000</td>\n",
       "      <td>95075.000000</td>\n",
       "    </tr>\n",
       "    <tr>\n",
       "      <th>max</th>\n",
       "      <td>496.000000</td>\n",
       "      <td>1702.00000</td>\n",
       "      <td>227600.000000</td>\n",
       "    </tr>\n",
       "  </tbody>\n",
       "</table>\n",
       "</div>"
      ],
      "text/plain": [
       "       customerNumber  salesRepEmployeeNumber    creditLimit\n",
       "count      122.000000               100.00000     122.000000\n",
       "mean       296.401639              1395.94000   67659.016393\n",
       "std        117.077544               165.67193   45043.370751\n",
       "min        103.000000              1165.00000       0.000000\n",
       "25%        191.250000              1286.00000   42175.000000\n",
       "50%        298.500000              1370.00000   76700.000000\n",
       "75%        384.250000              1504.00000   95075.000000\n",
       "max        496.000000              1702.00000  227600.000000"
      ]
     },
     "execution_count": 99,
     "metadata": {},
     "output_type": "execute_result"
    }
   ],
   "source": [
    "df.describe()"
   ]
  },
  {
   "cell_type": "markdown",
   "metadata": {},
   "source": [
    "#### Now here you have all values, with the help of nunique and unique functionn ,so you don't need to go back to data again and again. "
   ]
  },
  {
   "cell_type": "code",
   "execution_count": 100,
   "metadata": {},
   "outputs": [
    {
     "data": {
      "text/plain": [
       "customerNumber            122\n",
       "customerName              122\n",
       "contactLastName           108\n",
       "contactFirstName          111\n",
       "phone                     121\n",
       "addressLine1              122\n",
       "addressLine2               21\n",
       "city                       96\n",
       "state                      18\n",
       "postalCode                 94\n",
       "country                    28\n",
       "salesRepEmployeeNumber     15\n",
       "creditLimit                93\n",
       "dtype: int64"
      ]
     },
     "execution_count": 100,
     "metadata": {},
     "output_type": "execute_result"
    }
   ],
   "source": [
    "df.nunique()"
   ]
  },
  {
   "cell_type": "markdown",
   "metadata": {},
   "source": [
    "The .unique function is showing all Customers postalCodes."
   ]
  },
  {
   "cell_type": "code",
   "execution_count": 101,
   "metadata": {},
   "outputs": [
    {
     "data": {
      "text/plain": [
       "array(['44000', '83030', '3004', '4110', '97562', '01-012', '60528',\n",
       "       '94217', '10022', '28034', 'S-958 22', '1734', '69004', '079903',\n",
       "       '70267', '069045', 'N 5804', '97823', '1756', '59000', '75012',\n",
       "       '51247', ' 530-0003', '21240', 'EC2 5NT', '2', '58339', 'WX1 6LT',\n",
       "       'V3F 2K1', '90003', '038988', '67000', nan, '08022', '92561',\n",
       "       '01307', '8200', 'H1J 1C3', '28001', '91217', 'PO31 7PJ', '31000',\n",
       "       '10100', '75508', '78000', '50739', 'T2F 8M4', '80805', '2060',\n",
       "       '24100', '2067', '1700', '1203', 'N 0106', '1043 GR', '12209',\n",
       "       '90110', 'B-1180', '24067', '50553', 'WX3 6FW', '94019', '4101',\n",
       "       'FIN-02271', '14776', '71270', '28023', '91003', '13008', '51100',\n",
       "       '0028', '44087', '51003', '62005', '1675', '3012', 'B-6000',\n",
       "       '5020', '1227 MM', '42100', '106-0032', '75016', '70563', '80686',\n",
       "       '04179', '97561', 'S-844 67', '8010', '52066', '3150', '68306',\n",
       "       '196143', '47625', '41101', 'WA1 1DP'], dtype=object)"
      ]
     },
     "execution_count": 101,
     "metadata": {},
     "output_type": "execute_result"
    }
   ],
   "source": [
    "df.postalCode.unique()"
   ]
  },
  {
   "cell_type": "markdown",
   "metadata": {},
   "source": [
    "The .unique function is showing all 28 country names of our customers."
   ]
  },
  {
   "cell_type": "code",
   "execution_count": 102,
   "metadata": {},
   "outputs": [
    {
     "data": {
      "text/plain": [
       "array(['France', 'USA', 'Australia', 'Norway', 'Poland', 'Germany',\n",
       "       'Spain', 'Sweden', 'Denmark', 'Singapore', 'Norway  ', 'Portugal',\n",
       "       'Japan', 'Finland', 'UK', 'Ireland', 'Canada', 'Hong Kong',\n",
       "       'Italy', 'Switzerland', 'Netherlands', 'Belgium', 'New Zealand',\n",
       "       'South Africa', 'Austria', 'Philippines', 'Russia', 'Israel'],\n",
       "      dtype=object)"
      ]
     },
     "execution_count": 102,
     "metadata": {},
     "output_type": "execute_result"
    }
   ],
   "source": [
    "df.country.unique()"
   ]
  },
  {
   "cell_type": "markdown",
   "metadata": {},
   "source": [
    "The .unique function is showing all 96 city names of our customers."
   ]
  },
  {
   "cell_type": "code",
   "execution_count": 103,
   "metadata": {},
   "outputs": [
    {
     "data": {
      "text/plain": [
       "array(['Nantes', 'Las Vegas', 'Melbourne', 'Stavern', 'San Rafael',\n",
       "       'Warszawa', 'Frankfurt', 'San Francisco', 'NYC', 'Madrid', 'Luleå',\n",
       "       'Kobenhavn', 'Lyon', 'Singapore', 'Allentown', 'Burlingame',\n",
       "       'Bergen', 'New Haven', 'Lisboa', 'Lille', 'Paris', 'Cambridge',\n",
       "       'Bridgewater', 'Kita-ku', 'Helsinki', 'Manchester', 'Dublin',\n",
       "       'Brickhaven', 'Liverpool', 'Vancouver', 'Pasadena', 'Strasbourg',\n",
       "       'Central Hong Kong', 'Barcelona', 'Glendale', 'Cunewalde', 'Århus',\n",
       "       'Montréal', 'San Diego', 'Cowes', 'Toulouse', 'Torino',\n",
       "       'Versailles', 'Köln', 'Tsawassen', 'München', 'North Sydney',\n",
       "       'Bergamo', 'Chatswood', 'Fribourg', 'Genève', 'Oslo', 'Amsterdam',\n",
       "       'Berlin', 'Oulu', 'Bruxelles', 'White Plains', 'New Bedford',\n",
       "       'Auckland  ', 'London', 'Newark', 'South Brisbane', 'Espoo',\n",
       "       'Brandenburg', 'Philadelphia', 'Los Angeles', 'Cork', 'Marseille',\n",
       "       'Reims', 'Hatfield', 'Auckland', 'Münster', 'Boston', 'Nashua',\n",
       "       'Bern', 'Charleroi', 'Salzburg', 'Makati City', 'Reggio Emilia',\n",
       "       'Minato-ku', 'Stuttgart', 'Wellington', 'Munich', 'Leipzig',\n",
       "       'Bräcke', 'San Jose', 'Graz', 'Aachen', 'Glen Waverly', 'Milan',\n",
       "       'Burbank', 'Mannheim', 'Saint Petersburg', 'Herzlia', 'Sevilla',\n",
       "       'Brisbane'], dtype=object)"
      ]
     },
     "execution_count": 103,
     "metadata": {},
     "output_type": "execute_result"
    }
   ],
   "source": [
    "df.city.unique()"
   ]
  },
  {
   "cell_type": "markdown",
   "metadata": {},
   "source": [
    "#### **Cleaning and Filtering Data**\n",
    "#### If any column has null values in your data then it's better to remove because it could make problem for you.\n",
    "(\"In this dataset you can see \"addressLine2\" and \"state\" has rows with \"Not a Number\" values, so we can easily remove these columns from dataset with drop function\")\n",
    "Before dropping just check how many are there.."
   ]
  },
  {
   "cell_type": "code",
   "execution_count": 104,
   "metadata": {},
   "outputs": [
    {
     "data": {
      "text/plain": [
       "customerNumber              0\n",
       "customerName                0\n",
       "contactLastName             0\n",
       "contactFirstName            0\n",
       "phone                       0\n",
       "addressLine1                0\n",
       "addressLine2              100\n",
       "city                        0\n",
       "state                      73\n",
       "postalCode                  7\n",
       "country                     0\n",
       "salesRepEmployeeNumber     22\n",
       "creditLimit                 0\n",
       "dtype: int64"
      ]
     },
     "execution_count": 104,
     "metadata": {},
     "output_type": "execute_result"
    }
   ],
   "source": [
    "df.isnull().sum()"
   ]
  },
  {
   "cell_type": "code",
   "execution_count": 105,
   "metadata": {},
   "outputs": [
    {
     "data": {
      "text/html": [
       "<div>\n",
       "<style scoped>\n",
       "    .dataframe tbody tr th:only-of-type {\n",
       "        vertical-align: middle;\n",
       "    }\n",
       "\n",
       "    .dataframe tbody tr th {\n",
       "        vertical-align: top;\n",
       "    }\n",
       "\n",
       "    .dataframe thead th {\n",
       "        text-align: right;\n",
       "    }\n",
       "</style>\n",
       "<table border=\"1\" class=\"dataframe\">\n",
       "  <thead>\n",
       "    <tr style=\"text-align: right;\">\n",
       "      <th></th>\n",
       "      <th>customerNumber</th>\n",
       "      <th>customerName</th>\n",
       "      <th>contactLastName</th>\n",
       "      <th>contactFirstName</th>\n",
       "      <th>phone</th>\n",
       "      <th>addressLine1</th>\n",
       "      <th>city</th>\n",
       "      <th>postalCode</th>\n",
       "      <th>country</th>\n",
       "      <th>salesRepEmployeeNumber</th>\n",
       "      <th>creditLimit</th>\n",
       "    </tr>\n",
       "  </thead>\n",
       "  <tbody>\n",
       "    <tr>\n",
       "      <th>0</th>\n",
       "      <td>103</td>\n",
       "      <td>Atelier graphique</td>\n",
       "      <td>Schmitt</td>\n",
       "      <td>Carine</td>\n",
       "      <td>40.32.2555</td>\n",
       "      <td>54, rue Royale</td>\n",
       "      <td>Nantes</td>\n",
       "      <td>44000</td>\n",
       "      <td>France</td>\n",
       "      <td>1370.0</td>\n",
       "      <td>21000.0</td>\n",
       "    </tr>\n",
       "    <tr>\n",
       "      <th>1</th>\n",
       "      <td>112</td>\n",
       "      <td>Signal Gift Stores</td>\n",
       "      <td>King</td>\n",
       "      <td>Jean</td>\n",
       "      <td>7025551838</td>\n",
       "      <td>8489 Strong St.</td>\n",
       "      <td>Las Vegas</td>\n",
       "      <td>83030</td>\n",
       "      <td>USA</td>\n",
       "      <td>1166.0</td>\n",
       "      <td>71800.0</td>\n",
       "    </tr>\n",
       "    <tr>\n",
       "      <th>2</th>\n",
       "      <td>114</td>\n",
       "      <td>Australian Collectors, Co.</td>\n",
       "      <td>Ferguson</td>\n",
       "      <td>Peter</td>\n",
       "      <td>03 9520 4555</td>\n",
       "      <td>636 St Kilda Road</td>\n",
       "      <td>Melbourne</td>\n",
       "      <td>3004</td>\n",
       "      <td>Australia</td>\n",
       "      <td>1611.0</td>\n",
       "      <td>117300.0</td>\n",
       "    </tr>\n",
       "    <tr>\n",
       "      <th>3</th>\n",
       "      <td>119</td>\n",
       "      <td>La Rochelle Gifts</td>\n",
       "      <td>Labrune</td>\n",
       "      <td>Janine</td>\n",
       "      <td>40.67.8555</td>\n",
       "      <td>67, rue des Cinquante Otages</td>\n",
       "      <td>Nantes</td>\n",
       "      <td>44000</td>\n",
       "      <td>France</td>\n",
       "      <td>1370.0</td>\n",
       "      <td>118200.0</td>\n",
       "    </tr>\n",
       "    <tr>\n",
       "      <th>4</th>\n",
       "      <td>121</td>\n",
       "      <td>Baane Mini Imports</td>\n",
       "      <td>Bergulfsen</td>\n",
       "      <td>Jonas</td>\n",
       "      <td>07-98 9555</td>\n",
       "      <td>Erling Skakkes gate 78</td>\n",
       "      <td>Stavern</td>\n",
       "      <td>4110</td>\n",
       "      <td>Norway</td>\n",
       "      <td>1504.0</td>\n",
       "      <td>81700.0</td>\n",
       "    </tr>\n",
       "    <tr>\n",
       "      <th>...</th>\n",
       "      <td>...</td>\n",
       "      <td>...</td>\n",
       "      <td>...</td>\n",
       "      <td>...</td>\n",
       "      <td>...</td>\n",
       "      <td>...</td>\n",
       "      <td>...</td>\n",
       "      <td>...</td>\n",
       "      <td>...</td>\n",
       "      <td>...</td>\n",
       "      <td>...</td>\n",
       "    </tr>\n",
       "    <tr>\n",
       "      <th>117</th>\n",
       "      <td>486</td>\n",
       "      <td>Motor Mint Distributors Inc.</td>\n",
       "      <td>Salazar</td>\n",
       "      <td>Rosa</td>\n",
       "      <td>2155559857</td>\n",
       "      <td>11328 Douglas Av.</td>\n",
       "      <td>Philadelphia</td>\n",
       "      <td>71270</td>\n",
       "      <td>USA</td>\n",
       "      <td>1323.0</td>\n",
       "      <td>72600.0</td>\n",
       "    </tr>\n",
       "    <tr>\n",
       "      <th>118</th>\n",
       "      <td>487</td>\n",
       "      <td>Signal Collectibles Ltd.</td>\n",
       "      <td>Taylor</td>\n",
       "      <td>Sue</td>\n",
       "      <td>4155554312</td>\n",
       "      <td>2793 Furth Circle</td>\n",
       "      <td>Brisbane</td>\n",
       "      <td>94217</td>\n",
       "      <td>USA</td>\n",
       "      <td>1165.0</td>\n",
       "      <td>60300.0</td>\n",
       "    </tr>\n",
       "    <tr>\n",
       "      <th>119</th>\n",
       "      <td>489</td>\n",
       "      <td>Double Decker Gift Stores, Ltd</td>\n",
       "      <td>Smith</td>\n",
       "      <td>Thomas</td>\n",
       "      <td>(171) 555-7555</td>\n",
       "      <td>120 Hanover Sq.</td>\n",
       "      <td>London</td>\n",
       "      <td>WA1 1DP</td>\n",
       "      <td>UK</td>\n",
       "      <td>1501.0</td>\n",
       "      <td>43300.0</td>\n",
       "    </tr>\n",
       "    <tr>\n",
       "      <th>120</th>\n",
       "      <td>495</td>\n",
       "      <td>Diecast Collectables</td>\n",
       "      <td>Franco</td>\n",
       "      <td>Valarie</td>\n",
       "      <td>6175552555</td>\n",
       "      <td>6251 Ingle Ln.</td>\n",
       "      <td>Boston</td>\n",
       "      <td>51003</td>\n",
       "      <td>USA</td>\n",
       "      <td>1188.0</td>\n",
       "      <td>85100.0</td>\n",
       "    </tr>\n",
       "    <tr>\n",
       "      <th>121</th>\n",
       "      <td>496</td>\n",
       "      <td>Kelly's Gift Shop</td>\n",
       "      <td>Snowden</td>\n",
       "      <td>Tony</td>\n",
       "      <td>+64 9 5555500</td>\n",
       "      <td>Arenales 1938 3'A'</td>\n",
       "      <td>Auckland</td>\n",
       "      <td>NaN</td>\n",
       "      <td>New Zealand</td>\n",
       "      <td>1612.0</td>\n",
       "      <td>110000.0</td>\n",
       "    </tr>\n",
       "  </tbody>\n",
       "</table>\n",
       "<p>122 rows × 11 columns</p>\n",
       "</div>"
      ],
      "text/plain": [
       "     customerNumber                    customerName contactLastName  \\\n",
       "0               103               Atelier graphique         Schmitt   \n",
       "1               112              Signal Gift Stores            King   \n",
       "2               114      Australian Collectors, Co.        Ferguson   \n",
       "3               119               La Rochelle Gifts         Labrune   \n",
       "4               121              Baane Mini Imports      Bergulfsen   \n",
       "..              ...                             ...             ...   \n",
       "117             486    Motor Mint Distributors Inc.         Salazar   \n",
       "118             487        Signal Collectibles Ltd.          Taylor   \n",
       "119             489  Double Decker Gift Stores, Ltd           Smith   \n",
       "120             495            Diecast Collectables          Franco   \n",
       "121             496               Kelly's Gift Shop         Snowden   \n",
       "\n",
       "    contactFirstName           phone                  addressLine1  \\\n",
       "0            Carine       40.32.2555                54, rue Royale   \n",
       "1               Jean      7025551838               8489 Strong St.   \n",
       "2              Peter    03 9520 4555             636 St Kilda Road   \n",
       "3            Janine       40.67.8555  67, rue des Cinquante Otages   \n",
       "4             Jonas       07-98 9555        Erling Skakkes gate 78   \n",
       "..               ...             ...                           ...   \n",
       "117             Rosa      2155559857             11328 Douglas Av.   \n",
       "118              Sue      4155554312             2793 Furth Circle   \n",
       "119          Thomas   (171) 555-7555               120 Hanover Sq.   \n",
       "120          Valarie      6175552555                6251 Ingle Ln.   \n",
       "121             Tony   +64 9 5555500            Arenales 1938 3'A'   \n",
       "\n",
       "             city postalCode      country  salesRepEmployeeNumber  creditLimit  \n",
       "0          Nantes      44000       France                  1370.0      21000.0  \n",
       "1       Las Vegas      83030          USA                  1166.0      71800.0  \n",
       "2       Melbourne       3004    Australia                  1611.0     117300.0  \n",
       "3          Nantes      44000       France                  1370.0     118200.0  \n",
       "4         Stavern       4110       Norway                  1504.0      81700.0  \n",
       "..            ...        ...          ...                     ...          ...  \n",
       "117  Philadelphia      71270          USA                  1323.0      72600.0  \n",
       "118      Brisbane      94217          USA                  1165.0      60300.0  \n",
       "119        London    WA1 1DP           UK                  1501.0      43300.0  \n",
       "120        Boston      51003          USA                  1188.0      85100.0  \n",
       "121    Auckland          NaN  New Zealand                  1612.0     110000.0  \n",
       "\n",
       "[122 rows x 11 columns]"
      ]
     },
     "execution_count": 105,
     "metadata": {},
     "output_type": "execute_result"
    }
   ],
   "source": [
    "df1=df.drop(['state','addressLine2'],axis=1)\n",
    "df1"
   ]
  },
  {
   "cell_type": "markdown",
   "metadata": {},
   "source": [
    "### To make sure that columns are removed or not..\n",
    "use (isnull().sum() fuction)"
   ]
  },
  {
   "cell_type": "markdown",
   "metadata": {},
   "source": [
    "**Now maximum NaN value columns are dropped.**."
   ]
  },
  {
   "cell_type": "code",
   "execution_count": 106,
   "metadata": {},
   "outputs": [
    {
     "data": {
      "text/plain": [
       "customerNumber             0\n",
       "customerName               0\n",
       "contactLastName            0\n",
       "contactFirstName           0\n",
       "phone                      0\n",
       "addressLine1               0\n",
       "city                       0\n",
       "postalCode                 7\n",
       "country                    0\n",
       "salesRepEmployeeNumber    22\n",
       "creditLimit                0\n",
       "dtype: int64"
      ]
     },
     "execution_count": 106,
     "metadata": {},
     "output_type": "execute_result"
    }
   ],
   "source": [
    "df1.isnull().sum()"
   ]
  },
  {
   "cell_type": "markdown",
   "metadata": {},
   "source": [
    "**In this graph customer Numbers have been changed in different graph numbers..**"
   ]
  },
  {
   "cell_type": "code",
   "execution_count": 107,
   "metadata": {},
   "outputs": [
    {
     "data": {
      "text/plain": [
       "(array([11., 17., 13., 13.,  8., 13., 13., 10.,  8., 16.]),\n",
       " array([103. , 142.3, 181.6, 220.9, 260.2, 299.5, 338.8, 378.1, 417.4,\n",
       "        456.7, 496. ]),\n",
       " <BarContainer object of 10 artists>)"
      ]
     },
     "execution_count": 107,
     "metadata": {},
     "output_type": "execute_result"
    },
    {
     "data": {
      "image/png": "[encoded data removed]",
      "text/plain": [
       "<Figure size 640x480 with 1 Axes>"
      ]
     },
     "metadata": {},
     "output_type": "display_data"
    }
   ],
   "source": [
    "plt.title(\"CustomerNumber\")\n",
    "plt.hist(df1['customerNumber'])"
   ]
  },
  {
   "cell_type": "markdown",
   "metadata": {},
   "source": [
    "### **USING BOX PLOT FOR SHOWING ALL COUNTRIES NAMES WITH DIFFERENT CREDITLIMITS.**\n",
    " **In X=axis, the boxplot is showing you different limits of credits of countries, and Y=axis is showing you the countries name, so the \"USA\" and \"SWETZERLAND\" are the countries who has maximum creditLimits.**"
   ]
  },
  {
   "cell_type": "code",
   "execution_count": 108,
   "metadata": {},
   "outputs": [
    {
     "data": {
      "text/plain": [
       "<Axes: title={'center': 'CreditLimit and Countries'}, xlabel='creditLimit', ylabel='country'>"
      ]
     },
     "execution_count": 108,
     "metadata": {},
     "output_type": "execute_result"
    },
    {
     "data": {
      "image/png": "[encoded data removed]",
      "text/plain": [
       "<Figure size 640x480 with 1 Axes>"
      ]
     },
     "metadata": {},
     "output_type": "display_data"
    }
   ],
   "source": [
    "plt.title (\"CreditLimit and Countries\")\n",
    "sns.boxplot(x='creditLimit',\n",
    "            y='country',hue= \"country\",\n",
    "            data=df1)"
   ]
  },
  {
   "cell_type": "code",
   "execution_count": 109,
   "metadata": {},
   "outputs": [],
   "source": [
    "import pandas as pd\n",
    "import matplotlib.pyplot as plt\n",
    "import seaborn as sns"
   ]
  },
  {
   "cell_type": "markdown",
   "metadata": {},
   "source": [
    "## NO # 2: \"orderdetails\""
   ]
  },
  {
   "cell_type": "markdown",
   "metadata": {},
   "source": [
    "In this dataset we have productcodes with it's quantityordered and it's old_price is also written but we manipulate it's all new_price with the help of MySQL, so we can see how much difference we are getting from new_price of our all orders."
   ]
  },
  {
   "cell_type": "code",
   "execution_count": 110,
   "metadata": {},
   "outputs": [
    {
     "data": {
      "text/html": [
       "<div>\n",
       "<style scoped>\n",
       "    .dataframe tbody tr th:only-of-type {\n",
       "        vertical-align: middle;\n",
       "    }\n",
       "\n",
       "    .dataframe tbody tr th {\n",
       "        vertical-align: top;\n",
       "    }\n",
       "\n",
       "    .dataframe thead th {\n",
       "        text-align: right;\n",
       "    }\n",
       "</style>\n",
       "<table border=\"1\" class=\"dataframe\">\n",
       "  <thead>\n",
       "    <tr style=\"text-align: right;\">\n",
       "      <th></th>\n",
       "      <th>productCode</th>\n",
       "      <th>quantityOrdered</th>\n",
       "      <th>old_price</th>\n",
       "      <th>new_price</th>\n",
       "    </tr>\n",
       "  </thead>\n",
       "  <tbody>\n",
       "    <tr>\n",
       "      <th>0</th>\n",
       "      <td>S18_1749</td>\n",
       "      <td>30</td>\n",
       "      <td>136.00</td>\n",
       "      <td>233.600</td>\n",
       "    </tr>\n",
       "    <tr>\n",
       "      <th>1</th>\n",
       "      <td>S18_2248</td>\n",
       "      <td>50</td>\n",
       "      <td>55.09</td>\n",
       "      <td>104.144</td>\n",
       "    </tr>\n",
       "    <tr>\n",
       "      <th>2</th>\n",
       "      <td>S18_4409</td>\n",
       "      <td>22</td>\n",
       "      <td>75.46</td>\n",
       "      <td>136.736</td>\n",
       "    </tr>\n",
       "    <tr>\n",
       "      <th>3</th>\n",
       "      <td>S24_3969</td>\n",
       "      <td>49</td>\n",
       "      <td>35.29</td>\n",
       "      <td>72.464</td>\n",
       "    </tr>\n",
       "    <tr>\n",
       "      <th>4</th>\n",
       "      <td>S18_2325</td>\n",
       "      <td>25</td>\n",
       "      <td>108.06</td>\n",
       "      <td>188.896</td>\n",
       "    </tr>\n",
       "    <tr>\n",
       "      <th>5</th>\n",
       "      <td>S18_2795</td>\n",
       "      <td>26</td>\n",
       "      <td>167.06</td>\n",
       "      <td>283.296</td>\n",
       "    </tr>\n",
       "    <tr>\n",
       "      <th>6</th>\n",
       "      <td>S24_1937</td>\n",
       "      <td>45</td>\n",
       "      <td>32.53</td>\n",
       "      <td>68.048</td>\n",
       "    </tr>\n",
       "    <tr>\n",
       "      <th>7</th>\n",
       "      <td>S24_2022</td>\n",
       "      <td>46</td>\n",
       "      <td>44.35</td>\n",
       "      <td>86.960</td>\n",
       "    </tr>\n",
       "    <tr>\n",
       "      <th>8</th>\n",
       "      <td>S18_1342</td>\n",
       "      <td>39</td>\n",
       "      <td>95.55</td>\n",
       "      <td>168.880</td>\n",
       "    </tr>\n",
       "    <tr>\n",
       "      <th>9</th>\n",
       "      <td>S18_1367</td>\n",
       "      <td>41</td>\n",
       "      <td>43.13</td>\n",
       "      <td>85.008</td>\n",
       "    </tr>\n",
       "  </tbody>\n",
       "</table>\n",
       "</div>"
      ],
      "text/plain": [
       "  productCode  quantityOrdered  old_price  new_price\n",
       "0    S18_1749               30     136.00    233.600\n",
       "1    S18_2248               50      55.09    104.144\n",
       "2    S18_4409               22      75.46    136.736\n",
       "3    S24_3969               49      35.29     72.464\n",
       "4    S18_2325               25     108.06    188.896\n",
       "5    S18_2795               26     167.06    283.296\n",
       "6    S24_1937               45      32.53     68.048\n",
       "7    S24_2022               46      44.35     86.960\n",
       "8    S18_1342               39      95.55    168.880\n",
       "9    S18_1367               41      43.13     85.008"
      ]
     },
     "execution_count": 110,
     "metadata": {},
     "output_type": "execute_result"
    }
   ],
   "source": [
    "ord=pd.read_csv(\"ORDERDETAILS.csv\")\n",
    "ord.head(10)"
   ]
  },
  {
   "cell_type": "code",
   "execution_count": 111,
   "metadata": {},
   "outputs": [
    {
     "data": {
      "text/html": [
       "<div>\n",
       "<style scoped>\n",
       "    .dataframe tbody tr th:only-of-type {\n",
       "        vertical-align: middle;\n",
       "    }\n",
       "\n",
       "    .dataframe tbody tr th {\n",
       "        vertical-align: top;\n",
       "    }\n",
       "\n",
       "    .dataframe thead th {\n",
       "        text-align: right;\n",
       "    }\n",
       "</style>\n",
       "<table border=\"1\" class=\"dataframe\">\n",
       "  <thead>\n",
       "    <tr style=\"text-align: right;\">\n",
       "      <th></th>\n",
       "      <th>quantityOrdered</th>\n",
       "      <th>old_price</th>\n",
       "      <th>new_price</th>\n",
       "    </tr>\n",
       "  </thead>\n",
       "  <tbody>\n",
       "    <tr>\n",
       "      <th>count</th>\n",
       "      <td>1000.000000</td>\n",
       "      <td>1000.000000</td>\n",
       "      <td>1000.000000</td>\n",
       "    </tr>\n",
       "    <tr>\n",
       "      <th>mean</th>\n",
       "      <td>34.603000</td>\n",
       "      <td>90.604500</td>\n",
       "      <td>160.967200</td>\n",
       "    </tr>\n",
       "    <tr>\n",
       "      <th>std</th>\n",
       "      <td>9.061982</td>\n",
       "      <td>36.592998</td>\n",
       "      <td>58.548796</td>\n",
       "    </tr>\n",
       "    <tr>\n",
       "      <th>min</th>\n",
       "      <td>20.000000</td>\n",
       "      <td>27.550000</td>\n",
       "      <td>60.080000</td>\n",
       "    </tr>\n",
       "    <tr>\n",
       "      <th>25%</th>\n",
       "      <td>27.000000</td>\n",
       "      <td>62.037500</td>\n",
       "      <td>115.260000</td>\n",
       "    </tr>\n",
       "    <tr>\n",
       "      <th>50%</th>\n",
       "      <td>34.000000</td>\n",
       "      <td>86.140000</td>\n",
       "      <td>153.824000</td>\n",
       "    </tr>\n",
       "    <tr>\n",
       "      <th>75%</th>\n",
       "      <td>43.000000</td>\n",
       "      <td>114.650000</td>\n",
       "      <td>199.440000</td>\n",
       "    </tr>\n",
       "    <tr>\n",
       "      <th>max</th>\n",
       "      <td>50.000000</td>\n",
       "      <td>214.300000</td>\n",
       "      <td>358.880000</td>\n",
       "    </tr>\n",
       "  </tbody>\n",
       "</table>\n",
       "</div>"
      ],
      "text/plain": [
       "       quantityOrdered    old_price    new_price\n",
       "count      1000.000000  1000.000000  1000.000000\n",
       "mean         34.603000    90.604500   160.967200\n",
       "std           9.061982    36.592998    58.548796\n",
       "min          20.000000    27.550000    60.080000\n",
       "25%          27.000000    62.037500   115.260000\n",
       "50%          34.000000    86.140000   153.824000\n",
       "75%          43.000000   114.650000   199.440000\n",
       "max          50.000000   214.300000   358.880000"
      ]
     },
     "execution_count": 111,
     "metadata": {},
     "output_type": "execute_result"
    }
   ],
   "source": [
    "ord.describe()"
   ]
  },
  {
   "cell_type": "markdown",
   "metadata": {},
   "source": [
    "#### **USING COUNT PLOT FOR SHOWING HOW MUCH NEW_PRICE IS INCREASED IN \"ORDERDETAILS\",(so the maximum is '350'.)**"
   ]
  },
  {
   "cell_type": "code",
   "execution_count": 112,
   "metadata": {},
   "outputs": [
    {
     "data": {
      "image/png": "[encoded data removed]",
      "text/plain": [
       "<Figure size 640x480 with 1 Axes>"
      ]
     },
     "metadata": {},
     "output_type": "display_data"
    }
   ],
   "source": [
    "plt.title (\"Old_price and New_price of Orderdetails\")\n",
    "ord1=sns.countplot(x=\"old_price\", hue= 'new_price',\n",
    "                   data=ord)"
   ]
  },
  {
   "cell_type": "code",
   "execution_count": 113,
   "metadata": {},
   "outputs": [
    {
     "data": {
      "text/plain": [
       "productCode        109\n",
       "quantityOrdered     31\n",
       "old_price          795\n",
       "new_price          795\n",
       "dtype: int64"
      ]
     },
     "execution_count": 113,
     "metadata": {},
     "output_type": "execute_result"
    }
   ],
   "source": [
    "ord.nunique()"
   ]
  },
  {
   "cell_type": "markdown",
   "metadata": {},
   "source": [
    "### LINE PLOT IS ALSO SHOWING THE MAXIMUM PRICE IS INCREASED TILL 350."
   ]
  },
  {
   "cell_type": "code",
   "execution_count": 114,
   "metadata": {},
   "outputs": [
    {
     "data": {
      "text/plain": [
       "<Axes: title={'center': 'Old_price and New_price of Orderdetails'}, xlabel='old_price', ylabel='new_price'>"
      ]
     },
     "execution_count": 114,
     "metadata": {},
     "output_type": "execute_result"
    },
    {
     "data": {
      "image/png": "[encoded data removed]",
      "text/plain": [
       "<Figure size 640x480 with 1 Axes>"
      ]
     },
     "metadata": {},
     "output_type": "display_data"
    }
   ],
   "source": [
    "plt.title(\"Old_price and New_price of Orderdetails\")\n",
    "sns.lineplot(x='old_price',y='new_price',\n",
    "            data=ord)"
   ]
  },
  {
   "cell_type": "markdown",
   "metadata": {},
   "source": [
    "### BUT THE BOXPLOT IS SHOWING THAT OLD PRICE WAS MAXIMUM TILL 200.."
   ]
  },
  {
   "cell_type": "code",
   "execution_count": 115,
   "metadata": {},
   "outputs": [
    {
     "data": {
      "text/plain": [
       "<Axes: title={'center': 'Old_price of Orderdetails'}, ylabel='old_price'>"
      ]
     },
     "execution_count": 115,
     "metadata": {},
     "output_type": "execute_result"
    },
    {
     "data": {
      "image/png": "[encoded data removed]",
      "text/plain": [
       "<Figure size 640x480 with 1 Axes>"
      ]
     },
     "metadata": {},
     "output_type": "display_data"
    }
   ],
   "source": [
    "plt.title (\"Old_price of Orderdetails\")\n",
    "sns.boxplot(ord[\"old_price\"])"
   ]
  },
  {
   "cell_type": "markdown",
   "metadata": {},
   "source": [
    "## NO # 3: \"product_projects\""
   ]
  },
  {
   "cell_type": "markdown",
   "metadata": {},
   "source": [
    "Before seeing the productsNames, we need to know about productVendor's names, because they played a very important role in selling and purchasing of the products. "
   ]
  },
  {
   "cell_type": "code",
   "execution_count": 116,
   "metadata": {},
   "outputs": [
    {
     "data": {
      "text/html": [
       "<div>\n",
       "<style scoped>\n",
       "    .dataframe tbody tr th:only-of-type {\n",
       "        vertical-align: middle;\n",
       "    }\n",
       "\n",
       "    .dataframe tbody tr th {\n",
       "        vertical-align: top;\n",
       "    }\n",
       "\n",
       "    .dataframe thead th {\n",
       "        text-align: right;\n",
       "    }\n",
       "</style>\n",
       "<table border=\"1\" class=\"dataframe\">\n",
       "  <thead>\n",
       "    <tr style=\"text-align: right;\">\n",
       "      <th></th>\n",
       "      <th>productCode</th>\n",
       "      <th>productName</th>\n",
       "      <th>productVendor</th>\n",
       "      <th>buyPrice</th>\n",
       "      <th>New_Price</th>\n",
       "    </tr>\n",
       "  </thead>\n",
       "  <tbody>\n",
       "    <tr>\n",
       "      <th>0</th>\n",
       "      <td>S10_1678</td>\n",
       "      <td>1969 Harley Davidson Ultimate Chopper</td>\n",
       "      <td>Min Lin Diecast</td>\n",
       "      <td>48.81</td>\n",
       "      <td>57.850</td>\n",
       "    </tr>\n",
       "    <tr>\n",
       "      <th>1</th>\n",
       "      <td>S10_1949</td>\n",
       "      <td>1952 Alpine Renault 1300</td>\n",
       "      <td>Classic Metal Creations</td>\n",
       "      <td>98.58</td>\n",
       "      <td>117.150</td>\n",
       "    </tr>\n",
       "    <tr>\n",
       "      <th>2</th>\n",
       "      <td>S10_2016</td>\n",
       "      <td>1996 Moto Guzzi 1100i</td>\n",
       "      <td>Highway 66 Mini Classics</td>\n",
       "      <td>68.99</td>\n",
       "      <td>69.470</td>\n",
       "    </tr>\n",
       "    <tr>\n",
       "      <th>3</th>\n",
       "      <td>S10_4698</td>\n",
       "      <td>2003 Harley-Davidson Eagle Drag Bike</td>\n",
       "      <td>Red Start Diecast</td>\n",
       "      <td>91.02</td>\n",
       "      <td>106.830</td>\n",
       "    </tr>\n",
       "    <tr>\n",
       "      <th>4</th>\n",
       "      <td>S10_4757</td>\n",
       "      <td>1972 Alfa Romeo GTA</td>\n",
       "      <td>Motor City Art Classics</td>\n",
       "      <td>85.68</td>\n",
       "      <td>78.000</td>\n",
       "    </tr>\n",
       "    <tr>\n",
       "      <th>...</th>\n",
       "      <td>...</td>\n",
       "      <td>...</td>\n",
       "      <td>...</td>\n",
       "      <td>...</td>\n",
       "      <td>...</td>\n",
       "    </tr>\n",
       "    <tr>\n",
       "      <th>105</th>\n",
       "      <td>S700_3505</td>\n",
       "      <td>The Titanic</td>\n",
       "      <td>Carousel DieCast Legends</td>\n",
       "      <td>51.09</td>\n",
       "      <td>60.085</td>\n",
       "    </tr>\n",
       "    <tr>\n",
       "      <th>106</th>\n",
       "      <td>S700_3962</td>\n",
       "      <td>The Queen Mary</td>\n",
       "      <td>Welly Diecast Productions</td>\n",
       "      <td>53.63</td>\n",
       "      <td>59.655</td>\n",
       "    </tr>\n",
       "    <tr>\n",
       "      <th>107</th>\n",
       "      <td>S700_4002</td>\n",
       "      <td>American Airlines: MD-11S</td>\n",
       "      <td>Second Gear Diecast</td>\n",
       "      <td>36.27</td>\n",
       "      <td>47.015</td>\n",
       "    </tr>\n",
       "    <tr>\n",
       "      <th>108</th>\n",
       "      <td>S72_1253</td>\n",
       "      <td>Boeing X-32A JSF</td>\n",
       "      <td>Motor City Art Classics</td>\n",
       "      <td>32.77</td>\n",
       "      <td>34.830</td>\n",
       "    </tr>\n",
       "    <tr>\n",
       "      <th>109</th>\n",
       "      <td>S72_3212</td>\n",
       "      <td>Pont Yacht</td>\n",
       "      <td>Unimax Art Galleries</td>\n",
       "      <td>33.30</td>\n",
       "      <td>37.300</td>\n",
       "    </tr>\n",
       "  </tbody>\n",
       "</table>\n",
       "<p>110 rows × 5 columns</p>\n",
       "</div>"
      ],
      "text/plain": [
       "    productCode                            productName  \\\n",
       "0      S10_1678  1969 Harley Davidson Ultimate Chopper   \n",
       "1      S10_1949               1952 Alpine Renault 1300   \n",
       "2      S10_2016                  1996 Moto Guzzi 1100i   \n",
       "3      S10_4698   2003 Harley-Davidson Eagle Drag Bike   \n",
       "4      S10_4757                    1972 Alfa Romeo GTA   \n",
       "..          ...                                    ...   \n",
       "105   S700_3505                            The Titanic   \n",
       "106   S700_3962                         The Queen Mary   \n",
       "107   S700_4002              American Airlines: MD-11S   \n",
       "108    S72_1253                       Boeing X-32A JSF   \n",
       "109    S72_3212                             Pont Yacht   \n",
       "\n",
       "                 productVendor  buyPrice  New_Price  \n",
       "0              Min Lin Diecast     48.81     57.850  \n",
       "1      Classic Metal Creations     98.58    117.150  \n",
       "2     Highway 66 Mini Classics     68.99     69.470  \n",
       "3            Red Start Diecast     91.02    106.830  \n",
       "4      Motor City Art Classics     85.68     78.000  \n",
       "..                         ...       ...        ...  \n",
       "105   Carousel DieCast Legends     51.09     60.085  \n",
       "106  Welly Diecast Productions     53.63     59.655  \n",
       "107        Second Gear Diecast     36.27     47.015  \n",
       "108    Motor City Art Classics     32.77     34.830  \n",
       "109       Unimax Art Galleries     33.30     37.300  \n",
       "\n",
       "[110 rows x 5 columns]"
      ]
     },
     "execution_count": 116,
     "metadata": {},
     "output_type": "execute_result"
    }
   ],
   "source": [
    "pdt=pd.read_csv(\"product_project.csv\")\n",
    "pdt"
   ]
  },
  {
   "cell_type": "code",
   "execution_count": 117,
   "metadata": {},
   "outputs": [
    {
     "data": {
      "text/html": [
       "<div>\n",
       "<style scoped>\n",
       "    .dataframe tbody tr th:only-of-type {\n",
       "        vertical-align: middle;\n",
       "    }\n",
       "\n",
       "    .dataframe tbody tr th {\n",
       "        vertical-align: top;\n",
       "    }\n",
       "\n",
       "    .dataframe thead th {\n",
       "        text-align: right;\n",
       "    }\n",
       "</style>\n",
       "<table border=\"1\" class=\"dataframe\">\n",
       "  <thead>\n",
       "    <tr style=\"text-align: right;\">\n",
       "      <th></th>\n",
       "      <th>buyPrice</th>\n",
       "      <th>New_Price</th>\n",
       "    </tr>\n",
       "  </thead>\n",
       "  <tbody>\n",
       "    <tr>\n",
       "      <th>count</th>\n",
       "      <td>110.000000</td>\n",
       "      <td>110.000000</td>\n",
       "    </tr>\n",
       "    <tr>\n",
       "      <th>mean</th>\n",
       "      <td>54.395182</td>\n",
       "      <td>60.219364</td>\n",
       "    </tr>\n",
       "    <tr>\n",
       "      <th>std</th>\n",
       "      <td>22.051130</td>\n",
       "      <td>19.831825</td>\n",
       "    </tr>\n",
       "    <tr>\n",
       "      <th>min</th>\n",
       "      <td>15.910000</td>\n",
       "      <td>26.595000</td>\n",
       "    </tr>\n",
       "    <tr>\n",
       "      <th>25%</th>\n",
       "      <td>34.180000</td>\n",
       "      <td>44.453750</td>\n",
       "    </tr>\n",
       "    <tr>\n",
       "      <th>50%</th>\n",
       "      <td>53.915000</td>\n",
       "      <td>59.150000</td>\n",
       "    </tr>\n",
       "    <tr>\n",
       "      <th>75%</th>\n",
       "      <td>68.675000</td>\n",
       "      <td>71.425000</td>\n",
       "    </tr>\n",
       "    <tr>\n",
       "      <th>max</th>\n",
       "      <td>103.420000</td>\n",
       "      <td>117.150000</td>\n",
       "    </tr>\n",
       "  </tbody>\n",
       "</table>\n",
       "</div>"
      ],
      "text/plain": [
       "         buyPrice   New_Price\n",
       "count  110.000000  110.000000\n",
       "mean    54.395182   60.219364\n",
       "std     22.051130   19.831825\n",
       "min     15.910000   26.595000\n",
       "25%     34.180000   44.453750\n",
       "50%     53.915000   59.150000\n",
       "75%     68.675000   71.425000\n",
       "max    103.420000  117.150000"
      ]
     },
     "execution_count": 117,
     "metadata": {},
     "output_type": "execute_result"
    }
   ],
   "source": [
    "pdt.describe()"
   ]
  },
  {
   "cell_type": "code",
   "execution_count": 118,
   "metadata": {},
   "outputs": [
    {
     "data": {
      "text/plain": [
       "productCode      110\n",
       "productName      110\n",
       "productVendor     13\n",
       "buyPrice         108\n",
       "New_Price        108\n",
       "dtype: int64"
      ]
     },
     "execution_count": 118,
     "metadata": {},
     "output_type": "execute_result"
    }
   ],
   "source": [
    "pdt.nunique()"
   ]
  },
  {
   "cell_type": "markdown",
   "metadata": {},
   "source": [
    "You can easily read vendor's names, and can choose Excellent vendors from your dataset."
   ]
  },
  {
   "cell_type": "code",
   "execution_count": 119,
   "metadata": {},
   "outputs": [
    {
     "data": {
      "text/plain": [
       "array(['Min Lin Diecast', 'Classic Metal Creations',\n",
       "       'Highway 66 Mini Classics', 'Red Start Diecast',\n",
       "       'Motor City Art Classics', 'Second Gear Diecast',\n",
       "       'Autoart Studio Design', 'Welly Diecast Productions',\n",
       "       'Unimax Art Galleries', 'Studio M Art Models', 'Exoto Designs',\n",
       "       'Gearbox Collectibles', 'Carousel DieCast Legends'], dtype=object)"
      ]
     },
     "execution_count": 119,
     "metadata": {},
     "output_type": "execute_result"
    }
   ],
   "source": [
    "pdt.productVendor.unique()"
   ]
  },
  {
   "cell_type": "markdown",
   "metadata": {},
   "source": [
    "## NO # 4: \"productVendor1 & productVendor2\""
   ]
  },
  {
   "cell_type": "markdown",
   "metadata": {},
   "source": [
    "Here we will see two productVendors and will compare there New_Price."
   ]
  },
  {
   "cell_type": "code",
   "execution_count": 120,
   "metadata": {},
   "outputs": [
    {
     "data": {
      "text/html": [
       "<div>\n",
       "<style scoped>\n",
       "    .dataframe tbody tr th:only-of-type {\n",
       "        vertical-align: middle;\n",
       "    }\n",
       "\n",
       "    .dataframe tbody tr th {\n",
       "        vertical-align: top;\n",
       "    }\n",
       "\n",
       "    .dataframe thead th {\n",
       "        text-align: right;\n",
       "    }\n",
       "</style>\n",
       "<table border=\"1\" class=\"dataframe\">\n",
       "  <thead>\n",
       "    <tr style=\"text-align: right;\">\n",
       "      <th></th>\n",
       "      <th>productCode</th>\n",
       "      <th>productName</th>\n",
       "      <th>productVendor</th>\n",
       "      <th>buyPrice</th>\n",
       "      <th>New_Price</th>\n",
       "    </tr>\n",
       "  </thead>\n",
       "  <tbody>\n",
       "    <tr>\n",
       "      <th>0</th>\n",
       "      <td>S10_1949</td>\n",
       "      <td>1952 Alpine Renault 1300</td>\n",
       "      <td>Classic Metal Creations</td>\n",
       "      <td>98.58</td>\n",
       "      <td>117.150</td>\n",
       "    </tr>\n",
       "    <tr>\n",
       "      <th>1</th>\n",
       "      <td>S18_1589</td>\n",
       "      <td>1965 Aston Martin DB5</td>\n",
       "      <td>Classic Metal Creations</td>\n",
       "      <td>65.96</td>\n",
       "      <td>72.220</td>\n",
       "    </tr>\n",
       "    <tr>\n",
       "      <th>2</th>\n",
       "      <td>S18_4721</td>\n",
       "      <td>1957 Corvette Convertible</td>\n",
       "      <td>Classic Metal Creations</td>\n",
       "      <td>69.93</td>\n",
       "      <td>84.400</td>\n",
       "    </tr>\n",
       "    <tr>\n",
       "      <th>3</th>\n",
       "      <td>S24_1785</td>\n",
       "      <td>1928 British Royal Navy Airplane</td>\n",
       "      <td>Classic Metal Creations</td>\n",
       "      <td>66.74</td>\n",
       "      <td>64.710</td>\n",
       "    </tr>\n",
       "    <tr>\n",
       "      <th>4</th>\n",
       "      <td>S24_2022</td>\n",
       "      <td>1938 Cadillac V-16 Presidential Limousine</td>\n",
       "      <td>Classic Metal Creations</td>\n",
       "      <td>20.61</td>\n",
       "      <td>32.400</td>\n",
       "    </tr>\n",
       "    <tr>\n",
       "      <th>5</th>\n",
       "      <td>S24_2766</td>\n",
       "      <td>1949 Jaguar XK 120</td>\n",
       "      <td>Classic Metal Creations</td>\n",
       "      <td>47.25</td>\n",
       "      <td>55.435</td>\n",
       "    </tr>\n",
       "    <tr>\n",
       "      <th>6</th>\n",
       "      <td>S24_3856</td>\n",
       "      <td>1956 Porsche 356A Coupe</td>\n",
       "      <td>Classic Metal Creations</td>\n",
       "      <td>98.30</td>\n",
       "      <td>80.215</td>\n",
       "    </tr>\n",
       "    <tr>\n",
       "      <th>7</th>\n",
       "      <td>S24_4620</td>\n",
       "      <td>1961 Chevrolet Impala</td>\n",
       "      <td>Classic Metal Creations</td>\n",
       "      <td>32.33</td>\n",
       "      <td>50.420</td>\n",
       "    </tr>\n",
       "    <tr>\n",
       "      <th>8</th>\n",
       "      <td>S32_2509</td>\n",
       "      <td>1954 Greyhound Scenicruiser</td>\n",
       "      <td>Classic Metal Creations</td>\n",
       "      <td>25.98</td>\n",
       "      <td>37.055</td>\n",
       "    </tr>\n",
       "    <tr>\n",
       "      <th>9</th>\n",
       "      <td>S50_1514</td>\n",
       "      <td>1962 City of Detroit Streetcar</td>\n",
       "      <td>Classic Metal Creations</td>\n",
       "      <td>37.49</td>\n",
       "      <td>39.290</td>\n",
       "    </tr>\n",
       "  </tbody>\n",
       "</table>\n",
       "</div>"
      ],
      "text/plain": [
       "  productCode                                productName  \\\n",
       "0    S10_1949                   1952 Alpine Renault 1300   \n",
       "1    S18_1589                      1965 Aston Martin DB5   \n",
       "2    S18_4721                  1957 Corvette Convertible   \n",
       "3    S24_1785           1928 British Royal Navy Airplane   \n",
       "4    S24_2022  1938 Cadillac V-16 Presidential Limousine   \n",
       "5    S24_2766                         1949 Jaguar XK 120   \n",
       "6    S24_3856                    1956 Porsche 356A Coupe   \n",
       "7    S24_4620                      1961 Chevrolet Impala   \n",
       "8    S32_2509                1954 Greyhound Scenicruiser   \n",
       "9    S50_1514             1962 City of Detroit Streetcar   \n",
       "\n",
       "             productVendor  buyPrice  New_Price  \n",
       "0  Classic Metal Creations     98.58    117.150  \n",
       "1  Classic Metal Creations     65.96     72.220  \n",
       "2  Classic Metal Creations     69.93     84.400  \n",
       "3  Classic Metal Creations     66.74     64.710  \n",
       "4  Classic Metal Creations     20.61     32.400  \n",
       "5  Classic Metal Creations     47.25     55.435  \n",
       "6  Classic Metal Creations     98.30     80.215  \n",
       "7  Classic Metal Creations     32.33     50.420  \n",
       "8  Classic Metal Creations     25.98     37.055  \n",
       "9  Classic Metal Creations     37.49     39.290  "
      ]
     },
     "execution_count": 120,
     "metadata": {},
     "output_type": "execute_result"
    }
   ],
   "source": [
    "pdt1=pd.read_csv(\"productVendor1.csv\")\n",
    "pdt1.head(10)"
   ]
  },
  {
   "cell_type": "code",
   "execution_count": 121,
   "metadata": {},
   "outputs": [
    {
     "data": {
      "text/html": [
       "<div>\n",
       "<style scoped>\n",
       "    .dataframe tbody tr th:only-of-type {\n",
       "        vertical-align: middle;\n",
       "    }\n",
       "\n",
       "    .dataframe tbody tr th {\n",
       "        vertical-align: top;\n",
       "    }\n",
       "\n",
       "    .dataframe thead th {\n",
       "        text-align: right;\n",
       "    }\n",
       "</style>\n",
       "<table border=\"1\" class=\"dataframe\">\n",
       "  <thead>\n",
       "    <tr style=\"text-align: right;\">\n",
       "      <th></th>\n",
       "      <th>buyPrice</th>\n",
       "      <th>New_Price</th>\n",
       "    </tr>\n",
       "  </thead>\n",
       "  <tbody>\n",
       "    <tr>\n",
       "      <th>count</th>\n",
       "      <td>10.000000</td>\n",
       "      <td>10.000000</td>\n",
       "    </tr>\n",
       "    <tr>\n",
       "      <th>mean</th>\n",
       "      <td>56.317000</td>\n",
       "      <td>63.329500</td>\n",
       "    </tr>\n",
       "    <tr>\n",
       "      <th>std</th>\n",
       "      <td>28.172168</td>\n",
       "      <td>26.163032</td>\n",
       "    </tr>\n",
       "    <tr>\n",
       "      <th>min</th>\n",
       "      <td>20.610000</td>\n",
       "      <td>32.400000</td>\n",
       "    </tr>\n",
       "    <tr>\n",
       "      <th>25%</th>\n",
       "      <td>33.620000</td>\n",
       "      <td>42.072500</td>\n",
       "    </tr>\n",
       "    <tr>\n",
       "      <th>50%</th>\n",
       "      <td>56.605000</td>\n",
       "      <td>60.072500</td>\n",
       "    </tr>\n",
       "    <tr>\n",
       "      <th>75%</th>\n",
       "      <td>69.132500</td>\n",
       "      <td>78.216250</td>\n",
       "    </tr>\n",
       "    <tr>\n",
       "      <th>max</th>\n",
       "      <td>98.580000</td>\n",
       "      <td>117.150000</td>\n",
       "    </tr>\n",
       "  </tbody>\n",
       "</table>\n",
       "</div>"
      ],
      "text/plain": [
       "        buyPrice   New_Price\n",
       "count  10.000000   10.000000\n",
       "mean   56.317000   63.329500\n",
       "std    28.172168   26.163032\n",
       "min    20.610000   32.400000\n",
       "25%    33.620000   42.072500\n",
       "50%    56.605000   60.072500\n",
       "75%    69.132500   78.216250\n",
       "max    98.580000  117.150000"
      ]
     },
     "execution_count": 121,
     "metadata": {},
     "output_type": "execute_result"
    }
   ],
   "source": [
    "pdt1.describe()"
   ]
  },
  {
   "cell_type": "code",
   "execution_count": 122,
   "metadata": {},
   "outputs": [
    {
     "data": {
      "text/plain": [
       "10"
      ]
     },
     "execution_count": 122,
     "metadata": {},
     "output_type": "execute_result"
    }
   ],
   "source": [
    "pdt1.productName.nunique()"
   ]
  },
  {
   "cell_type": "code",
   "execution_count": 123,
   "metadata": {},
   "outputs": [
    {
     "data": {
      "text/plain": [
       "10"
      ]
     },
     "execution_count": 123,
     "metadata": {},
     "output_type": "execute_result"
    }
   ],
   "source": [
    "pdt1.productCode.nunique()"
   ]
  },
  {
   "cell_type": "code",
   "execution_count": 124,
   "metadata": {},
   "outputs": [
    {
     "data": {
      "text/plain": [
       "array(['1952 Alpine Renault 1300', '1965 Aston Martin DB5',\n",
       "       '1957 Corvette Convertible', '1928 British Royal Navy Airplane',\n",
       "       '1938 Cadillac V-16 Presidential Limousine', '1949 Jaguar XK 120',\n",
       "       '1956 Porsche 356A Coupe', '1961 Chevrolet Impala',\n",
       "       '1954 Greyhound Scenicruiser', '1962 City of Detroit Streetcar'],\n",
       "      dtype=object)"
      ]
     },
     "execution_count": 124,
     "metadata": {},
     "output_type": "execute_result"
    }
   ],
   "source": [
    "pdt1.productName.unique()"
   ]
  },
  {
   "cell_type": "markdown",
   "metadata": {},
   "source": [
    "Here you can see the success of the productVendor1's is reached about 105 with new_price but productVendor2 is reached about less than productVendor1. "
   ]
  },
  {
   "cell_type": "code",
   "execution_count": 125,
   "metadata": {},
   "outputs": [
    {
     "data": {
      "text/plain": [
       "<Axes: title={'center': \"productVendor1='Classic Metal Creations'\"}, xlabel='buyPrice', ylabel='New_Price'>"
      ]
     },
     "execution_count": 125,
     "metadata": {},
     "output_type": "execute_result"
    },
    {
     "data": {
      "image/png": "[encoded data removed]",
      "text/plain": [
       "<Figure size 640x480 with 1 Axes>"
      ]
     },
     "metadata": {},
     "output_type": "display_data"
    }
   ],
   "source": [
    "plt.title(\"productVendor1='Classic Metal Creations'\")\n",
    "sns.barplot(x='buyPrice',\n",
    "            y='New_Price',hue='New_Price',\n",
    "            data=pdt1)"
   ]
  },
  {
   "cell_type": "markdown",
   "metadata": {},
   "source": [
    "This barplot is showing all 10 productCodes with it's buyprice & New_Price."
   ]
  },
  {
   "cell_type": "code",
   "execution_count": 126,
   "metadata": {},
   "outputs": [
    {
     "data": {
      "text/plain": [
       "<Axes: title={'center': \"productVendor2='Classic Metal Creations'\"}, xlabel='buyPrice', ylabel='New_Price'>"
      ]
     },
     "execution_count": 126,
     "metadata": {},
     "output_type": "execute_result"
    },
    {
     "data": {
      "image/png": "[encoded data removed]",
      "text/plain": [
       "<Figure size 640x480 with 1 Axes>"
      ]
     },
     "metadata": {},
     "output_type": "display_data"
    }
   ],
   "source": [
    "plt.title(\"productVendor2='Classic Metal Creations'\")\n",
    "sns.barplot(data=pdt1,\n",
    "            x='buyPrice',\n",
    "            y='New_Price',\n",
    "            hue='productCode')"
   ]
  },
  {
   "cell_type": "code",
   "execution_count": 127,
   "metadata": {},
   "outputs": [
    {
     "data": {
      "text/html": [
       "<div>\n",
       "<style scoped>\n",
       "    .dataframe tbody tr th:only-of-type {\n",
       "        vertical-align: middle;\n",
       "    }\n",
       "\n",
       "    .dataframe tbody tr th {\n",
       "        vertical-align: top;\n",
       "    }\n",
       "\n",
       "    .dataframe thead th {\n",
       "        text-align: right;\n",
       "    }\n",
       "</style>\n",
       "<table border=\"1\" class=\"dataframe\">\n",
       "  <thead>\n",
       "    <tr style=\"text-align: right;\">\n",
       "      <th></th>\n",
       "      <th>productCode</th>\n",
       "      <th>productName</th>\n",
       "      <th>productVendor</th>\n",
       "      <th>buyPrice</th>\n",
       "      <th>New_Price</th>\n",
       "    </tr>\n",
       "  </thead>\n",
       "  <tbody>\n",
       "    <tr>\n",
       "      <th>0</th>\n",
       "      <td>S10_1678</td>\n",
       "      <td>1969 Harley Davidson Ultimate Chopper</td>\n",
       "      <td>Min Lin Diecast</td>\n",
       "      <td>48.81</td>\n",
       "      <td>57.850</td>\n",
       "    </tr>\n",
       "    <tr>\n",
       "      <th>1</th>\n",
       "      <td>S18_1984</td>\n",
       "      <td>1995 Honda Civic</td>\n",
       "      <td>Min Lin Diecast</td>\n",
       "      <td>93.89</td>\n",
       "      <td>81.125</td>\n",
       "    </tr>\n",
       "    <tr>\n",
       "      <th>2</th>\n",
       "      <td>S18_2957</td>\n",
       "      <td>1934 Ford V8 Coupe</td>\n",
       "      <td>Min Lin Diecast</td>\n",
       "      <td>34.35</td>\n",
       "      <td>41.230</td>\n",
       "    </tr>\n",
       "    <tr>\n",
       "      <th>3</th>\n",
       "      <td>S18_3029</td>\n",
       "      <td>1999 Yamaha Speed Boat</td>\n",
       "      <td>Min Lin Diecast</td>\n",
       "      <td>51.61</td>\n",
       "      <td>53.010</td>\n",
       "    </tr>\n",
       "    <tr>\n",
       "      <th>4</th>\n",
       "      <td>S18_3278</td>\n",
       "      <td>1969 Dodge Super Bee</td>\n",
       "      <td>Min Lin Diecast</td>\n",
       "      <td>49.05</td>\n",
       "      <td>50.205</td>\n",
       "    </tr>\n",
       "    <tr>\n",
       "      <th>5</th>\n",
       "      <td>S18_4027</td>\n",
       "      <td>1970 Triumph Spitfire</td>\n",
       "      <td>Min Lin Diecast</td>\n",
       "      <td>91.92</td>\n",
       "      <td>81.810</td>\n",
       "    </tr>\n",
       "    <tr>\n",
       "      <th>6</th>\n",
       "      <td>S24_3151</td>\n",
       "      <td>1912 Ford Model T Delivery Wagon</td>\n",
       "      <td>Min Lin Diecast</td>\n",
       "      <td>46.91</td>\n",
       "      <td>54.255</td>\n",
       "    </tr>\n",
       "    <tr>\n",
       "      <th>7</th>\n",
       "      <td>S700_1691</td>\n",
       "      <td>American Airlines: B767-300</td>\n",
       "      <td>Min Lin Diecast</td>\n",
       "      <td>51.15</td>\n",
       "      <td>55.670</td>\n",
       "    </tr>\n",
       "  </tbody>\n",
       "</table>\n",
       "</div>"
      ],
      "text/plain": [
       "  productCode                            productName    productVendor  \\\n",
       "0    S10_1678  1969 Harley Davidson Ultimate Chopper  Min Lin Diecast   \n",
       "1    S18_1984                       1995 Honda Civic  Min Lin Diecast   \n",
       "2    S18_2957                     1934 Ford V8 Coupe  Min Lin Diecast   \n",
       "3    S18_3029                 1999 Yamaha Speed Boat  Min Lin Diecast   \n",
       "4    S18_3278                   1969 Dodge Super Bee  Min Lin Diecast   \n",
       "5    S18_4027                  1970 Triumph Spitfire  Min Lin Diecast   \n",
       "6    S24_3151       1912 Ford Model T Delivery Wagon  Min Lin Diecast   \n",
       "7   S700_1691            American Airlines: B767-300  Min Lin Diecast   \n",
       "\n",
       "   buyPrice  New_Price  \n",
       "0     48.81     57.850  \n",
       "1     93.89     81.125  \n",
       "2     34.35     41.230  \n",
       "3     51.61     53.010  \n",
       "4     49.05     50.205  \n",
       "5     91.92     81.810  \n",
       "6     46.91     54.255  \n",
       "7     51.15     55.670  "
      ]
     },
     "execution_count": 127,
     "metadata": {},
     "output_type": "execute_result"
    }
   ],
   "source": [
    "pdt2=pd.read_csv(\"productVendor2.csv\")\n",
    "pdt2.head(10)"
   ]
  },
  {
   "cell_type": "code",
   "execution_count": 128,
   "metadata": {},
   "outputs": [
    {
     "data": {
      "text/html": [
       "<div>\n",
       "<style scoped>\n",
       "    .dataframe tbody tr th:only-of-type {\n",
       "        vertical-align: middle;\n",
       "    }\n",
       "\n",
       "    .dataframe tbody tr th {\n",
       "        vertical-align: top;\n",
       "    }\n",
       "\n",
       "    .dataframe thead th {\n",
       "        text-align: right;\n",
       "    }\n",
       "</style>\n",
       "<table border=\"1\" class=\"dataframe\">\n",
       "  <thead>\n",
       "    <tr style=\"text-align: right;\">\n",
       "      <th></th>\n",
       "      <th>buyPrice</th>\n",
       "      <th>New_Price</th>\n",
       "    </tr>\n",
       "  </thead>\n",
       "  <tbody>\n",
       "    <tr>\n",
       "      <th>count</th>\n",
       "      <td>8.000000</td>\n",
       "      <td>8.000000</td>\n",
       "    </tr>\n",
       "    <tr>\n",
       "      <th>mean</th>\n",
       "      <td>58.461250</td>\n",
       "      <td>59.394375</td>\n",
       "    </tr>\n",
       "    <tr>\n",
       "      <th>std</th>\n",
       "      <td>21.946624</td>\n",
       "      <td>14.503689</td>\n",
       "    </tr>\n",
       "    <tr>\n",
       "      <th>min</th>\n",
       "      <td>34.350000</td>\n",
       "      <td>41.230000</td>\n",
       "    </tr>\n",
       "    <tr>\n",
       "      <th>25%</th>\n",
       "      <td>48.335000</td>\n",
       "      <td>52.308750</td>\n",
       "    </tr>\n",
       "    <tr>\n",
       "      <th>50%</th>\n",
       "      <td>50.100000</td>\n",
       "      <td>54.962500</td>\n",
       "    </tr>\n",
       "    <tr>\n",
       "      <th>75%</th>\n",
       "      <td>61.687500</td>\n",
       "      <td>63.668750</td>\n",
       "    </tr>\n",
       "    <tr>\n",
       "      <th>max</th>\n",
       "      <td>93.890000</td>\n",
       "      <td>81.810000</td>\n",
       "    </tr>\n",
       "  </tbody>\n",
       "</table>\n",
       "</div>"
      ],
      "text/plain": [
       "        buyPrice  New_Price\n",
       "count   8.000000   8.000000\n",
       "mean   58.461250  59.394375\n",
       "std    21.946624  14.503689\n",
       "min    34.350000  41.230000\n",
       "25%    48.335000  52.308750\n",
       "50%    50.100000  54.962500\n",
       "75%    61.687500  63.668750\n",
       "max    93.890000  81.810000"
      ]
     },
     "execution_count": 128,
     "metadata": {},
     "output_type": "execute_result"
    }
   ],
   "source": [
    "pdt2.describe()"
   ]
  },
  {
   "cell_type": "code",
   "execution_count": 129,
   "metadata": {},
   "outputs": [
    {
     "data": {
      "text/plain": [
       "8"
      ]
     },
     "execution_count": 129,
     "metadata": {},
     "output_type": "execute_result"
    }
   ],
   "source": [
    "pdt2.productName.nunique()"
   ]
  },
  {
   "cell_type": "code",
   "execution_count": 130,
   "metadata": {},
   "outputs": [
    {
     "data": {
      "text/plain": [
       "8"
      ]
     },
     "execution_count": 130,
     "metadata": {},
     "output_type": "execute_result"
    }
   ],
   "source": [
    "pdt2.productCode.nunique()"
   ]
  },
  {
   "cell_type": "code",
   "execution_count": 131,
   "metadata": {},
   "outputs": [
    {
     "data": {
      "text/plain": [
       "array(['1969 Harley Davidson Ultimate Chopper', '1995 Honda Civic',\n",
       "       '1934 Ford V8 Coupe', '1999 Yamaha Speed Boat',\n",
       "       '1969 Dodge Super Bee', '1970 Triumph Spitfire',\n",
       "       '1912 Ford Model T Delivery Wagon', 'American Airlines: B767-300'],\n",
       "      dtype=object)"
      ]
     },
     "execution_count": 131,
     "metadata": {},
     "output_type": "execute_result"
    }
   ],
   "source": [
    "pdt2.productName.unique()"
   ]
  },
  {
   "cell_type": "code",
   "execution_count": 132,
   "metadata": {},
   "outputs": [
    {
     "data": {
      "text/plain": [
       "<Axes: title={'center': \"productVendor2='Min Lin Diecast'\"}, xlabel='buyPrice', ylabel='New_Price'>"
      ]
     },
     "execution_count": 132,
     "metadata": {},
     "output_type": "execute_result"
    },
    {
     "data": {
      "image/png": "[encoded data removed]",
      "text/plain": [
       "<Figure size 640x480 with 1 Axes>"
      ]
     },
     "metadata": {},
     "output_type": "display_data"
    }
   ],
   "source": [
    "plt.title(\"productVendor2='Min Lin Diecast'\")\n",
    "sns.barplot(x='buyPrice',\n",
    "            y='New_Price',hue='New_Price',\n",
    "            data=pdt2)"
   ]
  },
  {
   "cell_type": "markdown",
   "metadata": {},
   "source": [
    "This barplot is showing all 8 productCodes with it's buyprice & New_Price."
   ]
  },
  {
   "cell_type": "code",
   "execution_count": 133,
   "metadata": {},
   "outputs": [
    {
     "data": {
      "text/plain": [
       "<Axes: title={'center': \"productVendor2='Min Lin Diecast'\"}, xlabel='buyPrice', ylabel='New_Price'>"
      ]
     },
     "execution_count": 133,
     "metadata": {},
     "output_type": "execute_result"
    },
    {
     "data": {
      "image/png": "[encoded data removed]",
      "text/plain": [
       "<Figure size 640x480 with 1 Axes>"
      ]
     },
     "metadata": {},
     "output_type": "display_data"
    }
   ],
   "source": [
    "plt.title(\"productVendor2='Min Lin Diecast'\")\n",
    "sns.barplot(data=pdt2,\n",
    "            x='buyPrice',\n",
    "            y='New_Price',\n",
    "            hue='productCode')"
   ]
  },
  {
   "cell_type": "markdown",
   "metadata": {},
   "source": [
    "## NO # 5: \"payments\""
   ]
  },
  {
   "cell_type": "markdown",
   "metadata": {},
   "source": [
    "Here we will see the total amount of payments from our customers.."
   ]
  },
  {
   "cell_type": "code",
   "execution_count": 134,
   "metadata": {},
   "outputs": [
    {
     "data": {
      "text/html": [
       "<div>\n",
       "<style scoped>\n",
       "    .dataframe tbody tr th:only-of-type {\n",
       "        vertical-align: middle;\n",
       "    }\n",
       "\n",
       "    .dataframe tbody tr th {\n",
       "        vertical-align: top;\n",
       "    }\n",
       "\n",
       "    .dataframe thead th {\n",
       "        text-align: right;\n",
       "    }\n",
       "</style>\n",
       "<table border=\"1\" class=\"dataframe\">\n",
       "  <thead>\n",
       "    <tr style=\"text-align: right;\">\n",
       "      <th></th>\n",
       "      <th>customerNumber</th>\n",
       "      <th>checkNumber</th>\n",
       "      <th>paymentDate</th>\n",
       "      <th>amount</th>\n",
       "    </tr>\n",
       "  </thead>\n",
       "  <tbody>\n",
       "    <tr>\n",
       "      <th>0</th>\n",
       "      <td>103</td>\n",
       "      <td>HQ336336</td>\n",
       "      <td>2004-10-19</td>\n",
       "      <td>6066.78</td>\n",
       "    </tr>\n",
       "    <tr>\n",
       "      <th>1</th>\n",
       "      <td>103</td>\n",
       "      <td>JM555205</td>\n",
       "      <td>2003-06-05</td>\n",
       "      <td>14571.44</td>\n",
       "    </tr>\n",
       "    <tr>\n",
       "      <th>2</th>\n",
       "      <td>103</td>\n",
       "      <td>OM314933</td>\n",
       "      <td>2004-12-18</td>\n",
       "      <td>1676.14</td>\n",
       "    </tr>\n",
       "    <tr>\n",
       "      <th>3</th>\n",
       "      <td>112</td>\n",
       "      <td>BO864823</td>\n",
       "      <td>2004-12-17</td>\n",
       "      <td>14191.12</td>\n",
       "    </tr>\n",
       "    <tr>\n",
       "      <th>4</th>\n",
       "      <td>112</td>\n",
       "      <td>HQ55022</td>\n",
       "      <td>2003-06-06</td>\n",
       "      <td>32641.98</td>\n",
       "    </tr>\n",
       "    <tr>\n",
       "      <th>5</th>\n",
       "      <td>112</td>\n",
       "      <td>ND748579</td>\n",
       "      <td>2004-08-20</td>\n",
       "      <td>33347.88</td>\n",
       "    </tr>\n",
       "    <tr>\n",
       "      <th>6</th>\n",
       "      <td>114</td>\n",
       "      <td>GG31455</td>\n",
       "      <td>2003-05-20</td>\n",
       "      <td>45864.03</td>\n",
       "    </tr>\n",
       "    <tr>\n",
       "      <th>7</th>\n",
       "      <td>114</td>\n",
       "      <td>MA765515</td>\n",
       "      <td>2004-12-15</td>\n",
       "      <td>82261.22</td>\n",
       "    </tr>\n",
       "    <tr>\n",
       "      <th>8</th>\n",
       "      <td>114</td>\n",
       "      <td>NP603840</td>\n",
       "      <td>2003-05-31</td>\n",
       "      <td>7565.08</td>\n",
       "    </tr>\n",
       "    <tr>\n",
       "      <th>9</th>\n",
       "      <td>114</td>\n",
       "      <td>NR27552</td>\n",
       "      <td>2004-03-10</td>\n",
       "      <td>44894.74</td>\n",
       "    </tr>\n",
       "  </tbody>\n",
       "</table>\n",
       "</div>"
      ],
      "text/plain": [
       "   customerNumber checkNumber paymentDate    amount\n",
       "0             103    HQ336336  2004-10-19   6066.78\n",
       "1             103    JM555205  2003-06-05  14571.44\n",
       "2             103    OM314933  2004-12-18   1676.14\n",
       "3             112    BO864823  2004-12-17  14191.12\n",
       "4             112     HQ55022  2003-06-06  32641.98\n",
       "5             112    ND748579  2004-08-20  33347.88\n",
       "6             114     GG31455  2003-05-20  45864.03\n",
       "7             114    MA765515  2004-12-15  82261.22\n",
       "8             114    NP603840  2003-05-31   7565.08\n",
       "9             114     NR27552  2004-03-10  44894.74"
      ]
     },
     "execution_count": 134,
     "metadata": {},
     "output_type": "execute_result"
    }
   ],
   "source": [
    "pyt=pd.read_csv(\"payments.csv\")\n",
    "pyt.head(10)"
   ]
  },
  {
   "cell_type": "markdown",
   "metadata": {},
   "source": [
    "### Here we need to know about the actual mean of our amount of payments."
   ]
  },
  {
   "cell_type": "code",
   "execution_count": 135,
   "metadata": {},
   "outputs": [
    {
     "data": {
      "text/html": [
       "<div>\n",
       "<style scoped>\n",
       "    .dataframe tbody tr th:only-of-type {\n",
       "        vertical-align: middle;\n",
       "    }\n",
       "\n",
       "    .dataframe tbody tr th {\n",
       "        vertical-align: top;\n",
       "    }\n",
       "\n",
       "    .dataframe thead th {\n",
       "        text-align: right;\n",
       "    }\n",
       "</style>\n",
       "<table border=\"1\" class=\"dataframe\">\n",
       "  <thead>\n",
       "    <tr style=\"text-align: right;\">\n",
       "      <th></th>\n",
       "      <th>customerNumber</th>\n",
       "      <th>amount</th>\n",
       "    </tr>\n",
       "  </thead>\n",
       "  <tbody>\n",
       "    <tr>\n",
       "      <th>count</th>\n",
       "      <td>273.000000</td>\n",
       "      <td>273.000000</td>\n",
       "    </tr>\n",
       "    <tr>\n",
       "      <th>mean</th>\n",
       "      <td>271.194139</td>\n",
       "      <td>32431.645531</td>\n",
       "    </tr>\n",
       "    <tr>\n",
       "      <th>std</th>\n",
       "      <td>120.069507</td>\n",
       "      <td>20997.116917</td>\n",
       "    </tr>\n",
       "    <tr>\n",
       "      <th>min</th>\n",
       "      <td>103.000000</td>\n",
       "      <td>615.450000</td>\n",
       "    </tr>\n",
       "    <tr>\n",
       "      <th>25%</th>\n",
       "      <td>161.000000</td>\n",
       "      <td>16909.840000</td>\n",
       "    </tr>\n",
       "    <tr>\n",
       "      <th>50%</th>\n",
       "      <td>250.000000</td>\n",
       "      <td>32077.440000</td>\n",
       "    </tr>\n",
       "    <tr>\n",
       "      <th>75%</th>\n",
       "      <td>363.000000</td>\n",
       "      <td>45352.470000</td>\n",
       "    </tr>\n",
       "    <tr>\n",
       "      <th>max</th>\n",
       "      <td>496.000000</td>\n",
       "      <td>120166.580000</td>\n",
       "    </tr>\n",
       "  </tbody>\n",
       "</table>\n",
       "</div>"
      ],
      "text/plain": [
       "       customerNumber         amount\n",
       "count      273.000000     273.000000\n",
       "mean       271.194139   32431.645531\n",
       "std        120.069507   20997.116917\n",
       "min        103.000000     615.450000\n",
       "25%        161.000000   16909.840000\n",
       "50%        250.000000   32077.440000\n",
       "75%        363.000000   45352.470000\n",
       "max        496.000000  120166.580000"
      ]
     },
     "execution_count": 135,
     "metadata": {},
     "output_type": "execute_result"
    }
   ],
   "source": [
    "pyt.describe()"
   ]
  },
  {
   "cell_type": "code",
   "execution_count": 136,
   "metadata": {},
   "outputs": [
    {
     "data": {
      "text/plain": [
       "customerNumber     98\n",
       "checkNumber       273\n",
       "paymentDate       232\n",
       "amount            273\n",
       "dtype: int64"
      ]
     },
     "execution_count": 136,
     "metadata": {},
     "output_type": "execute_result"
    }
   ],
   "source": [
    "pyt.nunique()"
   ]
  },
  {
   "cell_type": "markdown",
   "metadata": {},
   "source": [
    "### The histplot, barplot and boxplot are showing us the Good amount of payments is between 40,000 to 60,000"
   ]
  },
  {
   "cell_type": "code",
   "execution_count": 137,
   "metadata": {},
   "outputs": [
    {
     "data": {
      "text/plain": [
       "<Axes: title={'center': 'The total amount of payments'}, xlabel='amount', ylabel='Count'>"
      ]
     },
     "execution_count": 137,
     "metadata": {},
     "output_type": "execute_result"
    },
    {
     "data": {
      "image/png": "[encoded data removed]",
      "text/plain": [
       "<Figure size 640x480 with 1 Axes>"
      ]
     },
     "metadata": {},
     "output_type": "display_data"
    }
   ],
   "source": [
    "plt.title(\"The total amount of payments\")\n",
    "sns.histplot(pyt[\"amount\"])"
   ]
  },
  {
   "cell_type": "code",
   "execution_count": 138,
   "metadata": {},
   "outputs": [
    {
     "data": {
      "text/plain": [
       "<Axes: ylabel='amount'>"
      ]
     },
     "execution_count": 138,
     "metadata": {},
     "output_type": "execute_result"
    },
    {
     "data": {
      "image/png": "[encoded data removed]",
      "text/plain": [
       "<Figure size 640x480 with 1 Axes>"
      ]
     },
     "metadata": {},
     "output_type": "display_data"
    }
   ],
   "source": [
    "sns.barplot(pyt[\"amount\"])"
   ]
  },
  {
   "cell_type": "code",
   "execution_count": 139,
   "metadata": {},
   "outputs": [
    {
     "data": {
      "text/plain": [
       "<Axes: ylabel='amount'>"
      ]
     },
     "execution_count": 139,
     "metadata": {},
     "output_type": "execute_result"
    },
    {
     "data": {
      "image/png": "[encoded data removed]",
      "text/plain": [
       "<Figure size 640x480 with 1 Axes>"
      ]
     },
     "metadata": {},
     "output_type": "display_data"
    }
   ],
   "source": [
    "sns.boxplot(pyt[\"amount\"])"
   ]
  },
  {
   "cell_type": "markdown",
   "metadata": {},
   "source": []
  }
 ],
 "metadata": {
  "kernelspec": {
   "display_name": "Python 3",
   "language": "python",
   "name": "python3"
  },
  "language_info": {
   "codemirror_mode": {
    "name": "ipython",
    "version": 3
   },
   "file_extension": ".py",
   "mimetype": "text/x-python",
   "name": "python",
   "nbconvert_exporter": "python",
   "pygments_lexer": "ipython3",
   "version": "3.12.1"
  }
 },
 "nbformat": 4,
 "nbformat_minor": 2
}
